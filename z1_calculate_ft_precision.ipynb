{
 "cells": [
  {
   "cell_type": "code",
   "execution_count": 1,
   "metadata": {},
   "outputs": [
    {
     "name": "stdout",
     "output_type": "stream",
     "text": [
      "Defaulting to user installation because normal site-packages is not writeable\n",
      "Requirement already satisfied: pin in /home/texnoman/.local/lib/python3.10/site-packages (2.7.0)\n",
      "Requirement already satisfied: meshcat in /home/texnoman/.local/lib/python3.10/site-packages (0.3.2)\n",
      "Requirement already satisfied: cmeel-urdfdom<4,>=3.1.1.1 in /home/texnoman/.local/lib/python3.10/site-packages (from pin) (3.1.1.1)\n",
      "Requirement already satisfied: hpp-fcl<4,>=2.3.4 in /home/texnoman/.local/lib/python3.10/site-packages (from pin) (2.4.4)\n",
      "Requirement already satisfied: cmeel in /home/texnoman/.local/lib/python3.10/site-packages (from pin) (0.53.3)\n",
      "Requirement already satisfied: cmeel-boost~=1.83.0 in /home/texnoman/.local/lib/python3.10/site-packages (from pin) (1.83.0)\n",
      "Requirement already satisfied: ipython>=5 in /home/texnoman/.local/lib/python3.10/site-packages (from meshcat) (8.22.2)\n",
      "Requirement already satisfied: u-msgpack-python>=2.4.1 in /home/texnoman/.local/lib/python3.10/site-packages (from meshcat) (2.8.0)\n",
      "Requirement already satisfied: tornado>=4.0.0 in /home/texnoman/.local/lib/python3.10/site-packages (from meshcat) (6.4)\n",
      "Requirement already satisfied: numpy>=1.14.0 in /home/texnoman/.local/lib/python3.10/site-packages (from meshcat) (1.26.4)\n",
      "Requirement already satisfied: pyngrok>=4.1.6 in /home/texnoman/.local/lib/python3.10/site-packages (from meshcat) (7.1.6)\n",
      "Requirement already satisfied: pillow>=7.0.0 in /home/texnoman/.local/lib/python3.10/site-packages (from meshcat) (10.2.0)\n",
      "Requirement already satisfied: pyzmq>=17.0.0 in /home/texnoman/.local/lib/python3.10/site-packages (from meshcat) (25.1.2)\n",
      "Requirement already satisfied: cmeel-console-bridge in /home/texnoman/.local/lib/python3.10/site-packages (from cmeel-urdfdom<4,>=3.1.1.1->pin) (1.0.2.2)\n",
      "Requirement already satisfied: cmeel-tinyxml in /home/texnoman/.local/lib/python3.10/site-packages (from cmeel-urdfdom<4,>=3.1.1.1->pin) (2.6.2.3)\n",
      "Requirement already satisfied: eigenpy<4,>=3.1 in /home/texnoman/.local/lib/python3.10/site-packages (from hpp-fcl<4,>=2.3.4->pin) (3.4.0)\n",
      "Requirement already satisfied: cmeel-assimp<6,>=5.3.1 in /home/texnoman/.local/lib/python3.10/site-packages (from hpp-fcl<4,>=2.3.4->pin) (5.3.1)\n",
      "Requirement already satisfied: cmeel-qhull<8.0.3,>=8.0.2.1 in /home/texnoman/.local/lib/python3.10/site-packages (from hpp-fcl<4,>=2.3.4->pin) (8.0.2.1)\n",
      "Requirement already satisfied: cmeel-octomap<2,>=1.9.8.2 in /home/texnoman/.local/lib/python3.10/site-packages (from hpp-fcl<4,>=2.3.4->pin) (1.9.8.2)\n",
      "Requirement already satisfied: pygments>=2.4.0 in /usr/lib/python3/dist-packages (from ipython>=5->meshcat) (2.11.2)\n",
      "Requirement already satisfied: prompt-toolkit<3.1.0,>=3.0.41 in /home/texnoman/.local/lib/python3.10/site-packages (from ipython>=5->meshcat) (3.0.43)\n",
      "Requirement already satisfied: jedi>=0.16 in /home/texnoman/.local/lib/python3.10/site-packages (from ipython>=5->meshcat) (0.19.1)\n",
      "Requirement already satisfied: matplotlib-inline in /home/texnoman/.local/lib/python3.10/site-packages (from ipython>=5->meshcat) (0.1.6)\n",
      "Requirement already satisfied: decorator in /usr/lib/python3/dist-packages (from ipython>=5->meshcat) (4.4.2)\n",
      "Requirement already satisfied: exceptiongroup in /home/texnoman/.local/lib/python3.10/site-packages (from ipython>=5->meshcat) (1.1.2)\n",
      "Requirement already satisfied: stack-data in /home/texnoman/.local/lib/python3.10/site-packages (from ipython>=5->meshcat) (0.6.3)\n",
      "Requirement already satisfied: pexpect>4.3 in /usr/lib/python3/dist-packages (from ipython>=5->meshcat) (4.8.0)\n",
      "Requirement already satisfied: traitlets>=5.13.0 in /home/texnoman/.local/lib/python3.10/site-packages (from ipython>=5->meshcat) (5.14.2)\n",
      "Requirement already satisfied: PyYAML>=5.1 in /usr/lib/python3/dist-packages (from pyngrok>=4.1.6->meshcat) (5.4.1)\n",
      "Requirement already satisfied: tomli<3.0.0,>=2.0.1 in /home/texnoman/.local/lib/python3.10/site-packages (from cmeel->pin) (2.0.1)\n",
      "Requirement already satisfied: parso<0.9.0,>=0.8.3 in /home/texnoman/.local/lib/python3.10/site-packages (from jedi>=0.16->ipython>=5->meshcat) (0.8.3)\n",
      "Requirement already satisfied: wcwidth in /home/texnoman/.local/lib/python3.10/site-packages (from prompt-toolkit<3.1.0,>=3.0.41->ipython>=5->meshcat) (0.2.9)\n",
      "Requirement already satisfied: asttokens>=2.1.0 in /home/texnoman/.local/lib/python3.10/site-packages (from stack-data->ipython>=5->meshcat) (2.4.1)\n",
      "Requirement already satisfied: executing>=1.2.0 in /home/texnoman/.local/lib/python3.10/site-packages (from stack-data->ipython>=5->meshcat) (2.0.1)\n",
      "Requirement already satisfied: pure-eval in /home/texnoman/.local/lib/python3.10/site-packages (from stack-data->ipython>=5->meshcat) (0.2.2)\n",
      "Requirement already satisfied: six>=1.12.0 in /usr/lib/python3/dist-packages (from asttokens>=2.1.0->stack-data->ipython>=5->meshcat) (1.16.0)\n"
     ]
    }
   ],
   "source": [
    "!pip3 install pin meshcat"
   ]
  },
  {
   "cell_type": "code",
   "execution_count": 52,
   "metadata": {},
   "outputs": [],
   "source": [
    "#\n",
    "# In this short script, we show how to use RobotWrapper\n",
    "# integrating different kinds of viewers\n",
    "#\n",
    " \n",
    "import pinocchio as pin\n",
    "from pinocchio.robot_wrapper import RobotWrapper\n",
    "from pinocchio.visualize import GepettoVisualizer, MeshcatVisualizer\n",
    "from sys import argv\n",
    "import os\n",
    "from os.path import dirname, join, abspath\n",
    "from time import sleep\n",
    "import numpy as np\n",
    "from numpy.linalg import norm, solve\n"
   ]
  },
  {
   "cell_type": "code",
   "execution_count": 54,
   "metadata": {},
   "outputs": [
    {
     "name": "stdout",
     "output_type": "stream",
     "text": [
      "End-effectors id: 16\n",
      "You can open the visualizer by visiting the following URL:\n",
      "http://127.0.0.1:7016/static/\n"
     ]
    }
   ],
   "source": [
    "\n",
    "VISUALIZER = MeshcatVisualizer\n",
    "\n",
    "IK_EPS = 1e-3\n",
    "IK_IT_MAX = 100\n",
    "IK_DT = 1e-1\n",
    "IK_DAMP = 1e-12\n",
    " \n",
    "# Load the URDF model with RobotWrapper\n",
    "# Conversion with str seems to be necessary when executing this file with ipython\n",
    "pinocchio_model_dir = join(abspath(''), \"models\")\n",
    " \n",
    "model_path = join(pinocchio_model_dir, \"example-robot-data/robots\")\n",
    "mesh_dir = pinocchio_model_dir\n",
    "urdf_filename = \"z1.urdf\"\n",
    "urdf_model_path = join(join(model_path, \"z1_description/urdf\"), urdf_filename)\n",
    " \n",
    "robot = RobotWrapper.BuildFromURDF(urdf_model_path, mesh_dir)\n",
    " \n",
    "# alias\n",
    "model = robot.model\n",
    "data = robot.data\n",
    "\n",
    "# Get end-effector id\n",
    "ee_frame_id = model.getFrameId(\"link06\")\n",
    "world_frame_id = model.getFrameId(\"world\")\n",
    "ee_joint_id = model.getFrameId(\"joint6\")\n",
    "print(f\"End-effectors id: {ee_frame_id}\")\n",
    " \n",
    "# do whatever, e.g. compute the center of mass position expressed in the world frame\n",
    "q = robot.q0\n",
    " \n",
    "# Show model with a visualizer of your choice\n",
    "if VISUALIZER:\n",
    "    robot.setVisualizer(VISUALIZER())\n",
    "    robot.initViewer()\n",
    "    robot.loadViewerModel(\"pinocchio\")\n",
    "    robot.display(q)"
   ]
  },
  {
   "cell_type": "code",
   "execution_count": 43,
   "metadata": {},
   "outputs": [],
   "source": [
    "def solve_ik(oMdes: pin.SE3, q0: np.ndarray):\n",
    "    q = q0.copy()\n",
    "    i = 0\n",
    "    while True:\n",
    "        pin.forwardKinematics(model, data, q)\n",
    "        iMd = data.oMi[-1].actInv(oMdes)\n",
    "        err = pin.log(iMd).vector  # in joint frame\n",
    "        if norm(err) < IK_EPS:\n",
    "            success = True\n",
    "            break\n",
    "        if i >= IK_IT_MAX:\n",
    "            success = False\n",
    "            break\n",
    "        J = pin.computeFrameJacobian(model, data, q, ee_frame_id, pin.ReferenceFrame.WORLD)  # in joint frame\n",
    "        J = -np.dot(pin.Jlog6(iMd.inverse()), J)\n",
    "        v = -J.T.dot(solve(J.dot(J.T) + IK_DAMP * np.eye(6), err))\n",
    "        q = pin.integrate(model, q, v * IK_DT)\n",
    "        i += 1\n",
    "    return success, q"
   ]
  },
  {
   "cell_type": "code",
   "execution_count": 70,
   "metadata": {},
   "outputs": [
    {
     "name": "stdout",
     "output_type": "stream",
     "text": [
      "<class 'numpy.ndarray'>\n",
      "True [-3.33439174e-03  1.61664871e+00 -6.11480750e-01  5.27790729e+00\n",
      "  3.52530555e-03 -6.28330292e+00]\n"
     ]
    }
   ],
   "source": [
    "q = pin.randomConfiguration(model)\n",
    "print(type(q))\n",
    "J = pin.computeFrameJacobian(model, data, q, ee_frame_id, pin.ReferenceFrame.WORLD)\n",
    "robot.display(q)\n",
    "oMdes = pin.SE3(np.eye(3), np.array([0.3, 0.0, 0.3]))\n",
    "ok, q_des = solve_ik(oMdes, q)\n",
    "print(ok, q_des)"
   ]
  },
  {
   "cell_type": "code",
   "execution_count": 51,
   "metadata": {},
   "outputs": [],
   "source": [
    "# Specify robot force-torque estimation precizion\n",
    "\n",
    "def ft_precision(model, data, q: np.ndarray, torque_error: np.ndarray) -> tuple[np.float, np.float]:\n",
    "    ft_error = "
   ]
  },
  {
   "cell_type": "code",
   "execution_count": 71,
   "metadata": {},
   "outputs": [
    {
     "ename": "NameError",
     "evalue": "name 'plt' is not defined",
     "output_type": "error",
     "traceback": [
      "\u001b[0;31m---------------------------------------------------------------------------\u001b[0m",
      "\u001b[0;31mNameError\u001b[0m                                 Traceback (most recent call last)",
      "Cell \u001b[0;32mIn[71], line 2\u001b[0m\n\u001b[1;32m      1\u001b[0m get_ipython()\u001b[39m.\u001b[39mrun_line_magic(\u001b[39m'\u001b[39m\u001b[39mmatplotlib\u001b[39m\u001b[39m'\u001b[39m, \u001b[39m'\u001b[39m\u001b[39mnotebook\u001b[39m\u001b[39m'\u001b[39m)\n\u001b[0;32m----> 2\u001b[0m fig \u001b[39m=\u001b[39m plt\u001b[39m.\u001b[39mfigure()\n\u001b[1;32m      3\u001b[0m ax \u001b[39m=\u001b[39m fig\u001b[39m.\u001b[39madd_subplot(projection\u001b[39m=\u001b[39m\u001b[39m'\u001b[39m\u001b[39m3d\u001b[39m\u001b[39m'\u001b[39m)\n\u001b[1;32m      4\u001b[0m ax\u001b[39m.\u001b[39mscatter(data_2_ok[:,\u001b[39m0\u001b[39m],data_2_ok[:,\u001b[39m1\u001b[39m],data_2_ok[:,\u001b[39m2\u001b[39m], color \u001b[39m=\u001b[39m \u001b[39m\"\u001b[39m\u001b[39mgreen\u001b[39m\u001b[39m\"\u001b[39m, alpha \u001b[39m=\u001b[39m \u001b[39m0.25\u001b[39m)\n",
      "\u001b[0;31mNameError\u001b[0m: name 'plt' is not defined"
     ]
    }
   ],
   "source": [
    "%matplotlib notebook\n",
    "fig = plt.figure()\n",
    "ax = fig.add_subplot(projection='3d')\n",
    "ax.scatter(data_2_ok[:,0],data_2_ok[:,1],data_2_ok[:,2], color = \"green\", alpha = 0.25)\n",
    "# ax.scatter(data_1_ok[:,0],data_1_ok[:,1],data_1_ok[:,2], color = \"yellow\", alpha = 0.25)\n",
    "ax.scatter([0.0], [0.0], [0.0], color = \"blue\")\n",
    "plt.title(\"Configuration = [0,1,-1]\")\n",
    "ax.xlabel('x')\n",
    "ax.ylabel('y')\n",
    "ax.zlabel('z')\n",
    "plt.show()"
   ]
  },
  {
   "cell_type": "code",
   "execution_count": null,
   "metadata": {},
   "outputs": [],
   "source": [
    "%matplotlib notebook\n",
    "fig = plt.figure()\n",
    "ax = fig.add_subplot(projection='3d')\n",
    "ax.scatter(data_3_ok[:,0],data_3_ok[:,1],data_3_ok[:,2], color = \"green\", alpha = 0.25)\n",
    "ax.scatter([0.0], [0.0], [0.0], color = \"blue\")\n",
    "plt.title(\"Configuration = [1,-1,-1]\")\n",
    "plt.show()"
   ]
  }
 ],
 "metadata": {
  "kernelspec": {
   "display_name": "Python 3",
   "language": "python",
   "name": "python3"
  },
  "language_info": {
   "codemirror_mode": {
    "name": "ipython",
    "version": 3
   },
   "file_extension": ".py",
   "mimetype": "text/x-python",
   "name": "python",
   "nbconvert_exporter": "python",
   "pygments_lexer": "ipython3",
   "version": "3.10.12"
  },
  "orig_nbformat": 4
 },
 "nbformat": 4,
 "nbformat_minor": 2
}
